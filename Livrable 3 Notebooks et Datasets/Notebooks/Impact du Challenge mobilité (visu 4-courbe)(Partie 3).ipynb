{
 "cells": [
  {
   "cell_type": "code",
   "execution_count": 1,
   "id": "49614651-0085-42ee-9cfa-65866e6e1659",
   "metadata": {},
   "outputs": [],
   "source": [
    "#Ajout des occurrences du Challenge Mobilité pour déterminer si les usagers ont été amenés à abandonner leur moyen de transport\n",
    "#au profit de modes plus écologiques."
   ]
  },
  {
   "cell_type": "code",
   "execution_count": 3,
   "id": "602c94b6-1162-4837-b4f4-049ee1b9b151",
   "metadata": {},
   "outputs": [
    {
     "data": {
      "text/plain": [
       "-2.293577981651376"
      ]
     },
     "execution_count": 3,
     "metadata": {},
     "output_type": "execute_result"
    }
   ],
   "source": [
    "#Dataset de 2020\n",
    "import pandas as pd\n",
    "\n",
    "df2020 = pd.read_excel('Data INP/2020_ChallengeMobilite_9-24-2020_9_7 EXTRACTION.xlsx')\n",
    "\n",
    "\n",
    "#Comptage des utilisations des transports verts sur le challenge mobilité 2020, puis somme du comptage de chaque mode de\n",
    "#transport\n",
    "import numpy as np\n",
    "df1_cleaned_challenge=df2020.iloc[:, 2:10]\n",
    "df1_cleaned_challenge.replace(0, np.nan, inplace=True)\n",
    "comptage_challegne_2020 = df1_cleaned_challenge.count()\n",
    "somme_comptage_challenge_2020 = comptage_challegne_2020.sum()\n",
    "\n",
    "#idem mais pour les utilisations des transports en mode normal (hors challenge sur les trajets types)\n",
    "df1_cleaned_normal=df2020.iloc[:, 10:17]\n",
    "df1_cleaned_normal.replace(0, np.nan, inplace=True)\n",
    "comptage_normal_2020 = df1_cleaned_normal.count()\n",
    "somme_comptage_normal_2020 = comptage_normal_2020.sum()\n",
    "\n",
    "#On compare la différence entre le trajet challenge mobilité et le trajet type\n",
    "progression2020 = ((somme_comptage_challenge_2020 - somme_comptage_normal_2020) / somme_comptage_normal_2020) * 100\n",
    "progression2020"
   ]
  },
  {
   "cell_type": "code",
   "execution_count": 4,
   "id": "641c7327-f8b6-4afa-9567-2dc001670bca",
   "metadata": {},
   "outputs": [
    {
     "data": {
      "text/plain": [
       "6.0"
      ]
     },
     "execution_count": 4,
     "metadata": {},
     "output_type": "execute_result"
    }
   ],
   "source": [
    "#Dataset de 2021\n",
    "import pandas as pd\n",
    "\n",
    "df2021 = pd.read_excel('Data INP/2021_ChallengeMobilite21_v2.xlsx')\n",
    "\n",
    "\n",
    "#Comptage des utilisations des transports verts sur le challenge mobilité 2020, puis somme du comptage de chaque mode de\n",
    "#transport\n",
    "import numpy as np\n",
    "df1_cleaned_challenge=df2021.iloc[:, 5:13]\n",
    "df1_cleaned_challenge.replace(0, np.nan, inplace=True)\n",
    "comptage_challegne_2021 = df1_cleaned_challenge.count()\n",
    "somme_comptage_challenge_2021 = comptage_challegne_2021.sum()\n",
    "\n",
    "#idem mais pour les utilisations des transports en mode normal (hors challenge sur les trajets types)\n",
    "df1_cleaned_normal=df2021.iloc[:, 15:22]\n",
    "df1_cleaned_normal.replace(0, np.nan, inplace=True)\n",
    "comptage_normal_2021 = df1_cleaned_normal.count()\n",
    "somme_comptage_normal_2021 = comptage_normal_2021.sum()\n",
    "\n",
    "#On compare la différence entre le trajet challenge mobilité et le trajet type\n",
    "progression2021 = ((somme_comptage_challenge_2021 - somme_comptage_normal_2021) / somme_comptage_normal_2021) * 100\n",
    "progression2021\n"
   ]
  },
  {
   "cell_type": "code",
   "execution_count": 7,
   "id": "d1521515-3e82-4f7b-8095-9c3d934d1b54",
   "metadata": {},
   "outputs": [
    {
     "data": {
      "text/plain": [
       "16.181229773462782"
      ]
     },
     "execution_count": 7,
     "metadata": {},
     "output_type": "execute_result"
    }
   ],
   "source": [
    "#Dataset de 2022\n",
    "import pandas as pd\n",
    "\n",
    "df2022 = pd.read_excel('Data INP/2022_Challengemobilite2022_v2.xlsx')\n",
    "\n",
    "\n",
    "#Comptage des utilisations des transports verts sur le challenge mobilité 2020, puis somme du comptage de chaque mode de\n",
    "#transport\n",
    "import numpy as np\n",
    "df1_cleaned_challenge=df2022.iloc[:, 5:13]\n",
    "df1_cleaned_challenge.replace(0, np.nan, inplace=True)\n",
    "comptage_challegne_2022 = df1_cleaned_challenge.count()\n",
    "somme_comptage_challenge_2022 = comptage_challegne_2022.sum()\n",
    "\n",
    "#idem mais pour les utilisations des transports en mode normal (hors challenge sur les trajets types)\n",
    "df1_cleaned_normal=df2022.iloc[:, 15:22]\n",
    "df1_cleaned_normal.replace(0, np.nan, inplace=True)\n",
    "comptage_normal_2022 = df1_cleaned_normal.count()\n",
    "somme_comptage_normal_2022 = comptage_normal_2022.sum()\n",
    "\n",
    "#On compare la différence entre le trajet challenge mobilité et le trajet type\n",
    "progression2022 = ((somme_comptage_challenge_2022 - somme_comptage_normal_2022) / somme_comptage_normal_2022) * 100\n",
    "progression2022\n"
   ]
  },
  {
   "cell_type": "code",
   "execution_count": 9,
   "id": "b0ba15c3-2171-47f4-9873-70d2bd82cbfa",
   "metadata": {},
   "outputs": [
    {
     "data": {
      "text/plain": [
       "4.740406320541761"
      ]
     },
     "execution_count": 9,
     "metadata": {},
     "output_type": "execute_result"
    }
   ],
   "source": [
    "#Dataset de 2023\n",
    "import pandas as pd\n",
    "\n",
    "df2023 = pd.read_excel('Data INP/2023_Challengemobilite2023_6-5-2023_9_14 extraction.xlsx')\n",
    "\n",
    "\n",
    "#Comptage des utilisations des transports verts sur le challenge mobilité 2020, puis somme du comptage de chaque mode de\n",
    "#transport\n",
    "import numpy as np\n",
    "df1_cleaned_challenge=df2023.iloc[:, 9:15]\n",
    "df1_cleaned_challenge.replace(0, np.nan, inplace=True)\n",
    "comptage_challegne_2023 = df1_cleaned_challenge.count()\n",
    "somme_comptage_challenge_2023 = comptage_challegne_2023.sum()\n",
    "\n",
    "#idem mais pour les utilisations des transports en mode normal (hors challenge sur les trajets types)\n",
    "df1_cleaned_normal=df2023.iloc[:, 20:27]\n",
    "df1_cleaned_normal.replace(0, np.nan, inplace=True)\n",
    "comptage_normal_2023 = df1_cleaned_normal.count()\n",
    "somme_comptage_normal_2023 = comptage_normal_2023.sum()\n",
    "\n",
    "#On compare la différence entre le trajet challenge mobilité et le trajet type\n",
    "progression2023 = ((somme_comptage_challenge_2023 - somme_comptage_normal_2023) / somme_comptage_normal_2023) * 100\n",
    "progression2023"
   ]
  },
  {
   "cell_type": "code",
   "execution_count": 11,
   "id": "663954e6-a6cf-440d-8667-cc4ceb756b2d",
   "metadata": {},
   "outputs": [
    {
     "data": {
      "text/plain": [
       "1.574803149606299"
      ]
     },
     "execution_count": 11,
     "metadata": {},
     "output_type": "execute_result"
    }
   ],
   "source": [
    "#Dataset de 2024\n",
    "import pandas as pd\n",
    "\n",
    "df2024 = pd.read_excel('Data INP/2024_Challengemobilite2024_6-4-2024_13_28.xlsx')\n",
    "\n",
    "\n",
    "#Comptage des utilisations des transports verts sur le challenge mobilité 2020, puis somme du comptage de chaque mode de\n",
    "#transport\n",
    "import numpy as np\n",
    "df1_cleaned_challenge=df2024.iloc[:, 9:15]\n",
    "df1_cleaned_challenge.replace(0, np.nan, inplace=True)\n",
    "comptage_challegne_2024 = df1_cleaned_challenge.count()\n",
    "somme_comptage_challenge_2024 = comptage_challegne_2024.sum()\n",
    "\n",
    "#idem mais pour les utilisations des transports en mode normal (hors challenge sur les trajets types)\n",
    "df1_cleaned_normal=df2024.iloc[:, 20:27]\n",
    "df1_cleaned_normal.replace(0, np.nan, inplace=True)\n",
    "comptage_normal_2024 = df1_cleaned_normal.count()\n",
    "somme_comptage_normal_2024 = comptage_normal_2024.sum()\n",
    "\n",
    "#On compare la différence entre le trajet challenge mobilité et le trajet type\n",
    "progression2024 = ((somme_comptage_challenge_2024 - somme_comptage_normal_2024) / somme_comptage_normal_2024) * 100\n",
    "progression2024"
   ]
  },
  {
   "cell_type": "code",
   "execution_count": 13,
   "id": "5cb12d07-b47e-4f11-943d-04320d21b64e",
   "metadata": {},
   "outputs": [
    {
     "data": {
      "text/html": [
       "<div>\n",
       "<style scoped>\n",
       "    .dataframe tbody tr th:only-of-type {\n",
       "        vertical-align: middle;\n",
       "    }\n",
       "\n",
       "    .dataframe tbody tr th {\n",
       "        vertical-align: top;\n",
       "    }\n",
       "\n",
       "    .dataframe thead th {\n",
       "        text-align: right;\n",
       "    }\n",
       "</style>\n",
       "<table border=\"1\" class=\"dataframe\">\n",
       "  <thead>\n",
       "    <tr style=\"text-align: right;\">\n",
       "      <th></th>\n",
       "      <th>2020</th>\n",
       "      <th>2021</th>\n",
       "      <th>2022</th>\n",
       "      <th>2023</th>\n",
       "      <th>2024</th>\n",
       "    </tr>\n",
       "  </thead>\n",
       "  <tbody>\n",
       "    <tr>\n",
       "      <th>0</th>\n",
       "      <td>-2.29</td>\n",
       "      <td>6.0</td>\n",
       "      <td>16.18</td>\n",
       "      <td>4.74</td>\n",
       "      <td>1.57</td>\n",
       "    </tr>\n",
       "  </tbody>\n",
       "</table>\n",
       "</div>"
      ],
      "text/plain": [
       "   2020  2021   2022  2023  2024\n",
       "0 -2.29   6.0  16.18  4.74  1.57"
      ]
     },
     "execution_count": 13,
     "metadata": {},
     "output_type": "execute_result"
    }
   ],
   "source": [
    "data = {\n",
    "    '2020': [-2.29 ],\n",
    "    '2021': [+6.00],\n",
    "    '2022': [+16.18],\n",
    "    '2023': [+4.74],\n",
    "    '2024': [+1.57]\n",
    "}\n",
    "df = pd.DataFrame(data)\n",
    "df = df.round(2)\n",
    "df.to_excel('ImpactChallenge.xlsx', index=False)\n",
    "df"
   ]
  },
  {
   "cell_type": "code",
   "execution_count": 15,
   "id": "28730365-4ff3-4663-aa81-04cad0e01e5d",
   "metadata": {},
   "outputs": [
    {
     "data": {
      "image/png": "[encoded data removed]",
      "text/plain": [
       "<Figure size 1000x500 with 1 Axes>"
      ]
     },
     "metadata": {},
     "output_type": "display_data"
    }
   ],
   "source": [
    "import matplotlib.pyplot as plt\n",
    "\n",
    "# Création du graphique en ligne\n",
    "plt.figure(figsize=(10, 5))\n",
    "plt.plot(df.columns, df.iloc[0], marker='o', linestyle='-', color='b')\n",
    "\n",
    "# Ajout des labels et du titre\n",
    "plt.xlabel(\"Année\")\n",
    "plt.ylabel(\"Évolution en %\")\n",
    "plt.title(\"Impact du Challenge Mobilité sur les choix de modes de transport verts\")\n",
    "\n",
    "# Affichage de la grille et du graphique\n",
    "plt.grid(True)\n",
    "plt.show()\n"
   ]
  },
  {
   "cell_type": "code",
   "execution_count": null,
   "id": "5c92bb81-1d17-4f4a-9d9a-3bdc094bf345",
   "metadata": {},
   "outputs": [],
   "source": []
  },
  {
   "cell_type": "code",
   "execution_count": null,
   "id": "4a622fe4-a348-43c9-90af-973bf3a6bb83",
   "metadata": {},
   "outputs": [],
   "source": []
  },
  {
   "cell_type": "code",
   "execution_count": null,
   "id": "76ddd49a-53e4-4e6a-bf76-fc3e0aa340f9",
   "metadata": {},
   "outputs": [],
   "source": []
  }
 ],
 "metadata": {
  "kernelspec": {
   "display_name": "Python 3 (ipykernel)",
   "language": "python",
   "name": "python3"
  },
  "language_info": {
   "codemirror_mode": {
    "name": "ipython",
    "version": 3
   },
   "file_extension": ".py",
   "mimetype": "text/x-python",
   "name": "python",
   "nbconvert_exporter": "python",
   "pygments_lexer": "ipython3",
   "version": "3.11.5"
  }
 },
 "nbformat": 4,
 "nbformat_minor": 5
}
