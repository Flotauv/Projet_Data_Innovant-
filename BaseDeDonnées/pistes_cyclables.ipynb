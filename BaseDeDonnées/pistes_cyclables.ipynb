{
 "cells": [
  {
   "cell_type": "markdown",
   "id": "cd4b2785-9019-481b-986f-93dc3f571fcb",
   "metadata": {},
   "source": [
    "### Etude des pistes cyclables"
   ]
  },
  {
   "cell_type": "code",
   "execution_count": 14,
   "id": "c10451c9-a3c0-4acf-accd-b42a6824006a",
   "metadata": {},
   "outputs": [
    {
     "name": "stdout",
     "output_type": "stream",
     "text": [
      "Collecting geopy\n",
      "  Downloading geopy-2.4.1-py3-none-any.whl.metadata (6.8 kB)\n",
      "Collecting geographiclib<3,>=1.52 (from geopy)\n",
      "  Downloading geographiclib-2.0-py3-none-any.whl.metadata (1.4 kB)\n",
      "Downloading geopy-2.4.1-py3-none-any.whl (125 kB)\n",
      "   ---------------------------------------- 0.0/125.4 kB ? eta -:--:--\n",
      "   --- ------------------------------------ 10.2/125.4 kB ? eta -:--:--\n",
      "   --------- ----------------------------- 30.7/125.4 kB 325.1 kB/s eta 0:00:01\n",
      "   ---------------------- ---------------- 71.7/125.4 kB 563.7 kB/s eta 0:00:01\n",
      "   -------------------------------------- 125.4/125.4 kB 817.0 kB/s eta 0:00:00\n",
      "Downloading geographiclib-2.0-py3-none-any.whl (40 kB)\n",
      "   ---------------------------------------- 0.0/40.3 kB ? eta -:--:--\n",
      "   ---------------------------------------- 40.3/40.3 kB ? eta 0:00:00\n",
      "Installing collected packages: geographiclib, geopy\n",
      "Successfully installed geographiclib-2.0 geopy-2.4.1\n"
     ]
    }
   ],
   "source": [
    "!pip install geopy"
   ]
  },
  {
   "cell_type": "code",
   "execution_count": 16,
   "id": "6d693246-7498-4afb-a571-87f245bf347c",
   "metadata": {},
   "outputs": [],
   "source": [
    "import pandas as pd\n",
    "import json\n",
    "from geopy.distance import geodesic"
   ]
  },
  {
   "cell_type": "code",
   "execution_count": 8,
   "id": "8eb7ad74-261b-40ea-858c-157ef7e5fa00",
   "metadata": {},
   "outputs": [],
   "source": [
    "df = pd.read_csv('pistes_cyclables.csv')"
   ]
  },
  {
   "cell_type": "code",
   "execution_count": 10,
   "id": "1ccaa308-acdf-4348-a20b-ed78f46873fc",
   "metadata": {},
   "outputs": [
    {
     "data": {
      "text/html": [
       "<div>\n",
       "<style scoped>\n",
       "    .dataframe tbody tr th:only-of-type {\n",
       "        vertical-align: middle;\n",
       "    }\n",
       "\n",
       "    .dataframe tbody tr th {\n",
       "        vertical-align: top;\n",
       "    }\n",
       "\n",
       "    .dataframe thead th {\n",
       "        text-align: right;\n",
       "    }\n",
       "</style>\n",
       "<table border=\"1\" class=\"dataframe\">\n",
       "  <thead>\n",
       "    <tr style=\"text-align: right;\">\n",
       "      <th></th>\n",
       "      <th>ogc_fid</th>\n",
       "      <th>geo_point_2d</th>\n",
       "      <th>anne_maj</th>\n",
       "      <th>lametro</th>\n",
       "      <th>type</th>\n",
       "      <th>name</th>\n",
       "      <th>geo_shape</th>\n",
       "    </tr>\n",
       "  </thead>\n",
       "  <tbody>\n",
       "    <tr>\n",
       "      <th>0</th>\n",
       "      <td>1489</td>\n",
       "      <td>45.17402,5.74223</td>\n",
       "      <td>2016.0</td>\n",
       "      <td>1</td>\n",
       "      <td>chronovelo</td>\n",
       "      <td>NaN</td>\n",
       "      <td>{\"type\":\"LineString\",\"coordinates\":[[5.74223,4...</td>\n",
       "    </tr>\n",
       "    <tr>\n",
       "      <th>1</th>\n",
       "      <td>1490</td>\n",
       "      <td>45.17272,5.73701</td>\n",
       "      <td>2016.0</td>\n",
       "      <td>1</td>\n",
       "      <td>chronovelo</td>\n",
       "      <td>NaN</td>\n",
       "      <td>{\"type\":\"LineString\",\"coordinates\":[[5.73701,4...</td>\n",
       "    </tr>\n",
       "    <tr>\n",
       "      <th>2</th>\n",
       "      <td>1491</td>\n",
       "      <td>45.17273,5.73488</td>\n",
       "      <td>2016.0</td>\n",
       "      <td>1</td>\n",
       "      <td>chronovelo</td>\n",
       "      <td>NaN</td>\n",
       "      <td>{\"type\":\"LineString\",\"coordinates\":[[5.73488,4...</td>\n",
       "    </tr>\n",
       "    <tr>\n",
       "      <th>3</th>\n",
       "      <td>1492</td>\n",
       "      <td>45.17315,5.73476</td>\n",
       "      <td>2016.0</td>\n",
       "      <td>1</td>\n",
       "      <td>chronovelo</td>\n",
       "      <td>NaN</td>\n",
       "      <td>{\"type\":\"LineString\",\"coordinates\":[[5.73476,4...</td>\n",
       "    </tr>\n",
       "    <tr>\n",
       "      <th>4</th>\n",
       "      <td>1625</td>\n",
       "      <td>45.20183,5.75957</td>\n",
       "      <td>2016.0</td>\n",
       "      <td>1</td>\n",
       "      <td>chronovelo</td>\n",
       "      <td>NaN</td>\n",
       "      <td>{\"type\":\"LineString\",\"coordinates\":[[5.75957,4...</td>\n",
       "    </tr>\n",
       "  </tbody>\n",
       "</table>\n",
       "</div>"
      ],
      "text/plain": [
       "   ogc_fid      geo_point_2d  anne_maj  lametro        type name  \\\n",
       "0     1489  45.17402,5.74223    2016.0        1  chronovelo  NaN   \n",
       "1     1490  45.17272,5.73701    2016.0        1  chronovelo  NaN   \n",
       "2     1491  45.17273,5.73488    2016.0        1  chronovelo  NaN   \n",
       "3     1492  45.17315,5.73476    2016.0        1  chronovelo  NaN   \n",
       "4     1625  45.20183,5.75957    2016.0        1  chronovelo  NaN   \n",
       "\n",
       "                                           geo_shape  \n",
       "0  {\"type\":\"LineString\",\"coordinates\":[[5.74223,4...  \n",
       "1  {\"type\":\"LineString\",\"coordinates\":[[5.73701,4...  \n",
       "2  {\"type\":\"LineString\",\"coordinates\":[[5.73488,4...  \n",
       "3  {\"type\":\"LineString\",\"coordinates\":[[5.73476,4...  \n",
       "4  {\"type\":\"LineString\",\"coordinates\":[[5.75957,4...  "
      ]
     },
     "execution_count": 10,
     "metadata": {},
     "output_type": "execute_result"
    }
   ],
   "source": [
    "df.head()"
   ]
  },
  {
   "cell_type": "markdown",
   "id": "5c3d2edd-690a-4ba9-aff3-16cc4370face",
   "metadata": {},
   "source": [
    "### Vérification des type LineString"
   ]
  },
  {
   "cell_type": "code",
   "execution_count": 22,
   "id": "ca879d79-3629-42dc-9c61-152d3e56814b",
   "metadata": {},
   "outputs": [
    {
     "name": "stdout",
     "output_type": "stream",
     "text": [
      "Résumé des types de géométries :\n",
      "is_linestring\n",
      "True    1202\n",
      "Name: count, dtype: int64\n",
      "Toutes les géométries sont des LineString.\n"
     ]
    }
   ],
   "source": [
    "# Fonction pour vérifier le type de géométrie\n",
    "def is_linestring(geo_shape):\n",
    "    try:\n",
    "        shape = json.loads(geo_shape)\n",
    "        return shape['type'] == 'LineString'\n",
    "    except:\n",
    "        return False\n",
    "\n",
    "# Vérifier si toutes les géométries sont des LineString\n",
    "df['is_linestring'] = df['geo_shape'].apply(is_linestring)\n",
    "\n",
    "# Résumé des résultats\n",
    "print(\"Résumé des types de géométries :\")\n",
    "print(df['is_linestring'].value_counts())\n",
    "\n",
    "# Identifier les géométries non conformes, s'il y en a\n",
    "non_linestring_rows = df[~df['is_linestring']]\n",
    "if not non_linestring_rows.empty:\n",
    "    print(\"Lignes avec des géométries non conformes :\")\n",
    "    print(non_linestring_rows)\n",
    "else:\n",
    "    print(\"Toutes les géométries sont des LineString.\")"
   ]
  },
  {
   "cell_type": "markdown",
   "id": "0ed309fb-9b84-4a7f-a668-ab66c7735f2b",
   "metadata": {},
   "source": [
    "### Calcul des distances de la piste cyclable"
   ]
  },
  {
   "cell_type": "code",
   "execution_count": 18,
   "id": "43bf62fd-4d03-4c6e-a733-bbc4251c564e",
   "metadata": {},
   "outputs": [
    {
     "name": "stdout",
     "output_type": "stream",
     "text": [
      "   ogc_fid      geo_point_2d  anne_maj  lametro        type name  \\\n",
      "0     1489  45.17402,5.74223    2016.0        1  chronovelo  NaN   \n",
      "1     1490  45.17272,5.73701    2016.0        1  chronovelo  NaN   \n",
      "2     1491  45.17273,5.73488    2016.0        1  chronovelo  NaN   \n",
      "3     1492  45.17315,5.73476    2016.0        1  chronovelo  NaN   \n",
      "4     1625  45.20183,5.75957    2016.0        1  chronovelo  NaN   \n",
      "\n",
      "                                           geo_shape  distance_km  \n",
      "0  {\"type\":\"LineString\",\"coordinates\":[[5.74223,4...     0.231531  \n",
      "1  {\"type\":\"LineString\",\"coordinates\":[[5.73701,4...     0.235551  \n",
      "2  {\"type\":\"LineString\",\"coordinates\":[[5.73488,4...     0.055292  \n",
      "3  {\"type\":\"LineString\",\"coordinates\":[[5.73476,4...     0.106301  \n",
      "4  {\"type\":\"LineString\",\"coordinates\":[[5.75957,4...     0.234373  \n"
     ]
    }
   ],
   "source": [
    "# Fonction pour calculer la distance d'une piste cyclable à partir de la colonne geo_shape\n",
    "def calculate_distance(geo_shape):\n",
    "    try:\n",
    "        # Charger les coordonnées GeoJSON\n",
    "        shape = json.loads(geo_shape)\n",
    "        if shape['type'] == 'LineString':\n",
    "            coordinates = shape['coordinates']\n",
    "            # Calculer la distance totale entre les points consécutifs\n",
    "            distances = [\n",
    "                geodesic(coordinates[i], coordinates[i+1]).kilometers\n",
    "                for i in range(len(coordinates) - 1)\n",
    "            ]\n",
    "            return sum(distances)\n",
    "    except:\n",
    "        return None  # Retourner None si un problème survient\n",
    "\n",
    "# Ajouter une colonne pour les distances\n",
    "df['distance_km'] = df['geo_shape'].apply(calculate_distance)\n",
    "\n",
    "# Enregistrer le DataFrame avec la nouvelle colonne dans un nouveau fichier CSV\n",
    "df.to_csv('fichier_avec_distances.csv', index=False)\n",
    "\n",
    "# Afficher les premières lignes pour vérifier\n",
    "print(df.head())\n"
   ]
  },
  {
   "cell_type": "code",
   "execution_count": null,
   "id": "56613eb6-f256-427c-8bc9-85f730169c43",
   "metadata": {},
   "outputs": [],
   "source": []
  }
 ],
 "metadata": {
  "kernelspec": {
   "display_name": "Python 3 (ipykernel)",
   "language": "python",
   "name": "python3"
  },
  "language_info": {
   "codemirror_mode": {
    "name": "ipython",
    "version": 3
   },
   "file_extension": ".py",
   "mimetype": "text/x-python",
   "name": "python",
   "nbconvert_exporter": "python",
   "pygments_lexer": "ipython3",
   "version": "3.12.4"
  }
 },
 "nbformat": 4,
 "nbformat_minor": 5
}
